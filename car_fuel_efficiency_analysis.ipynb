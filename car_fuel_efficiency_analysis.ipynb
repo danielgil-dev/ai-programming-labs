{
 "cells": [
  {
   "cell_type": "markdown",
   "id": "9fad4443",
   "metadata": {},
   "source": [
    "# Car Fuel Efficiency Analysis\n",
    "\n",
    "This notebook analyzes the Car Fuel Efficiency dataset to answer several questions about fuel efficiency, vehicle properties, and statistical analysis."
   ]
  },
  {
   "cell_type": "markdown",
   "id": "a7b73625",
   "metadata": {},
   "source": [
    "## 1. Import Required Libraries"
   ]
  },
  {
   "cell_type": "code",
   "execution_count": 52,
   "id": "b85270dd",
   "metadata": {},
   "outputs": [],
   "source": [
    "# Import necessary libraries\n",
    "import pandas as pd\n",
    "import numpy as np\n",
    "\n",
    "\n"
   ]
  },
  {
   "cell_type": "markdown",
   "id": "b0749a1b",
   "metadata": {},
   "source": [
    "## Q1: Pandas Version\n",
    "Check the installed version of pandas."
   ]
  },
  {
   "cell_type": "code",
   "execution_count": 3,
   "id": "8dbe7e51",
   "metadata": {},
   "outputs": [
    {
     "data": {
      "text/plain": [
       "'2.2.3'"
      ]
     },
     "execution_count": 3,
     "metadata": {},
     "output_type": "execute_result"
    }
   ],
   "source": [
    "# Check pandas version\n",
    "pd.__version__"
   ]
  },
  {
   "cell_type": "markdown",
   "id": "485f66ee",
   "metadata": {},
   "source": [
    "## Getting the Data\n",
    "Download the Car Fuel Efficiency dataset and load it with Pandas."
   ]
  },
  {
   "cell_type": "code",
   "execution_count": 4,
   "id": "d32ce70d",
   "metadata": {},
   "outputs": [
    {
     "data": {
      "text/html": [
       "<div>\n",
       "<style scoped>\n",
       "    .dataframe tbody tr th:only-of-type {\n",
       "        vertical-align: middle;\n",
       "    }\n",
       "\n",
       "    .dataframe tbody tr th {\n",
       "        vertical-align: top;\n",
       "    }\n",
       "\n",
       "    .dataframe thead th {\n",
       "        text-align: right;\n",
       "    }\n",
       "</style>\n",
       "<table border=\"1\" class=\"dataframe\">\n",
       "  <thead>\n",
       "    <tr style=\"text-align: right;\">\n",
       "      <th></th>\n",
       "      <th>engine_displacement</th>\n",
       "      <th>num_cylinders</th>\n",
       "      <th>horsepower</th>\n",
       "      <th>vehicle_weight</th>\n",
       "      <th>acceleration</th>\n",
       "      <th>model_year</th>\n",
       "      <th>origin</th>\n",
       "      <th>fuel_type</th>\n",
       "      <th>drivetrain</th>\n",
       "      <th>num_doors</th>\n",
       "      <th>fuel_efficiency_mpg</th>\n",
       "    </tr>\n",
       "  </thead>\n",
       "  <tbody>\n",
       "    <tr>\n",
       "      <th>0</th>\n",
       "      <td>170</td>\n",
       "      <td>3.0</td>\n",
       "      <td>159.0</td>\n",
       "      <td>3413.433759</td>\n",
       "      <td>17.7</td>\n",
       "      <td>2003</td>\n",
       "      <td>Europe</td>\n",
       "      <td>Gasoline</td>\n",
       "      <td>All-wheel drive</td>\n",
       "      <td>0.0</td>\n",
       "      <td>13.231729</td>\n",
       "    </tr>\n",
       "    <tr>\n",
       "      <th>1</th>\n",
       "      <td>130</td>\n",
       "      <td>5.0</td>\n",
       "      <td>97.0</td>\n",
       "      <td>3149.664934</td>\n",
       "      <td>17.8</td>\n",
       "      <td>2007</td>\n",
       "      <td>USA</td>\n",
       "      <td>Gasoline</td>\n",
       "      <td>Front-wheel drive</td>\n",
       "      <td>0.0</td>\n",
       "      <td>13.688217</td>\n",
       "    </tr>\n",
       "    <tr>\n",
       "      <th>2</th>\n",
       "      <td>170</td>\n",
       "      <td>NaN</td>\n",
       "      <td>78.0</td>\n",
       "      <td>3079.038997</td>\n",
       "      <td>15.1</td>\n",
       "      <td>2018</td>\n",
       "      <td>Europe</td>\n",
       "      <td>Gasoline</td>\n",
       "      <td>Front-wheel drive</td>\n",
       "      <td>0.0</td>\n",
       "      <td>14.246341</td>\n",
       "    </tr>\n",
       "    <tr>\n",
       "      <th>3</th>\n",
       "      <td>220</td>\n",
       "      <td>4.0</td>\n",
       "      <td>NaN</td>\n",
       "      <td>2542.392402</td>\n",
       "      <td>20.2</td>\n",
       "      <td>2009</td>\n",
       "      <td>USA</td>\n",
       "      <td>Diesel</td>\n",
       "      <td>All-wheel drive</td>\n",
       "      <td>2.0</td>\n",
       "      <td>16.912736</td>\n",
       "    </tr>\n",
       "    <tr>\n",
       "      <th>4</th>\n",
       "      <td>210</td>\n",
       "      <td>1.0</td>\n",
       "      <td>140.0</td>\n",
       "      <td>3460.870990</td>\n",
       "      <td>14.4</td>\n",
       "      <td>2009</td>\n",
       "      <td>Europe</td>\n",
       "      <td>Gasoline</td>\n",
       "      <td>All-wheel drive</td>\n",
       "      <td>2.0</td>\n",
       "      <td>12.488369</td>\n",
       "    </tr>\n",
       "    <tr>\n",
       "      <th>...</th>\n",
       "      <td>...</td>\n",
       "      <td>...</td>\n",
       "      <td>...</td>\n",
       "      <td>...</td>\n",
       "      <td>...</td>\n",
       "      <td>...</td>\n",
       "      <td>...</td>\n",
       "      <td>...</td>\n",
       "      <td>...</td>\n",
       "      <td>...</td>\n",
       "      <td>...</td>\n",
       "    </tr>\n",
       "    <tr>\n",
       "      <th>9699</th>\n",
       "      <td>140</td>\n",
       "      <td>5.0</td>\n",
       "      <td>164.0</td>\n",
       "      <td>2981.107371</td>\n",
       "      <td>17.3</td>\n",
       "      <td>2013</td>\n",
       "      <td>Europe</td>\n",
       "      <td>Diesel</td>\n",
       "      <td>Front-wheel drive</td>\n",
       "      <td>NaN</td>\n",
       "      <td>15.101802</td>\n",
       "    </tr>\n",
       "    <tr>\n",
       "      <th>9700</th>\n",
       "      <td>180</td>\n",
       "      <td>NaN</td>\n",
       "      <td>154.0</td>\n",
       "      <td>2439.525729</td>\n",
       "      <td>15.0</td>\n",
       "      <td>2004</td>\n",
       "      <td>USA</td>\n",
       "      <td>Gasoline</td>\n",
       "      <td>All-wheel drive</td>\n",
       "      <td>0.0</td>\n",
       "      <td>17.962326</td>\n",
       "    </tr>\n",
       "    <tr>\n",
       "      <th>9701</th>\n",
       "      <td>220</td>\n",
       "      <td>2.0</td>\n",
       "      <td>138.0</td>\n",
       "      <td>2583.471318</td>\n",
       "      <td>15.1</td>\n",
       "      <td>2008</td>\n",
       "      <td>USA</td>\n",
       "      <td>Diesel</td>\n",
       "      <td>All-wheel drive</td>\n",
       "      <td>-1.0</td>\n",
       "      <td>17.186587</td>\n",
       "    </tr>\n",
       "    <tr>\n",
       "      <th>9702</th>\n",
       "      <td>230</td>\n",
       "      <td>4.0</td>\n",
       "      <td>177.0</td>\n",
       "      <td>2905.527390</td>\n",
       "      <td>19.4</td>\n",
       "      <td>2011</td>\n",
       "      <td>USA</td>\n",
       "      <td>Diesel</td>\n",
       "      <td>Front-wheel drive</td>\n",
       "      <td>1.0</td>\n",
       "      <td>15.331551</td>\n",
       "    </tr>\n",
       "    <tr>\n",
       "      <th>9703</th>\n",
       "      <td>270</td>\n",
       "      <td>3.0</td>\n",
       "      <td>140.0</td>\n",
       "      <td>2908.043477</td>\n",
       "      <td>14.7</td>\n",
       "      <td>2005</td>\n",
       "      <td>Asia</td>\n",
       "      <td>Diesel</td>\n",
       "      <td>All-wheel drive</td>\n",
       "      <td>-1.0</td>\n",
       "      <td>14.884467</td>\n",
       "    </tr>\n",
       "  </tbody>\n",
       "</table>\n",
       "<p>9704 rows × 11 columns</p>\n",
       "</div>"
      ],
      "text/plain": [
       "      engine_displacement  num_cylinders  horsepower  vehicle_weight  \\\n",
       "0                     170            3.0       159.0     3413.433759   \n",
       "1                     130            5.0        97.0     3149.664934   \n",
       "2                     170            NaN        78.0     3079.038997   \n",
       "3                     220            4.0         NaN     2542.392402   \n",
       "4                     210            1.0       140.0     3460.870990   \n",
       "...                   ...            ...         ...             ...   \n",
       "9699                  140            5.0       164.0     2981.107371   \n",
       "9700                  180            NaN       154.0     2439.525729   \n",
       "9701                  220            2.0       138.0     2583.471318   \n",
       "9702                  230            4.0       177.0     2905.527390   \n",
       "9703                  270            3.0       140.0     2908.043477   \n",
       "\n",
       "      acceleration  model_year  origin fuel_type         drivetrain  \\\n",
       "0             17.7        2003  Europe  Gasoline    All-wheel drive   \n",
       "1             17.8        2007     USA  Gasoline  Front-wheel drive   \n",
       "2             15.1        2018  Europe  Gasoline  Front-wheel drive   \n",
       "3             20.2        2009     USA    Diesel    All-wheel drive   \n",
       "4             14.4        2009  Europe  Gasoline    All-wheel drive   \n",
       "...            ...         ...     ...       ...                ...   \n",
       "9699          17.3        2013  Europe    Diesel  Front-wheel drive   \n",
       "9700          15.0        2004     USA  Gasoline    All-wheel drive   \n",
       "9701          15.1        2008     USA    Diesel    All-wheel drive   \n",
       "9702          19.4        2011     USA    Diesel  Front-wheel drive   \n",
       "9703          14.7        2005    Asia    Diesel    All-wheel drive   \n",
       "\n",
       "      num_doors  fuel_efficiency_mpg  \n",
       "0           0.0            13.231729  \n",
       "1           0.0            13.688217  \n",
       "2           0.0            14.246341  \n",
       "3           2.0            16.912736  \n",
       "4           2.0            12.488369  \n",
       "...         ...                  ...  \n",
       "9699        NaN            15.101802  \n",
       "9700        0.0            17.962326  \n",
       "9701       -1.0            17.186587  \n",
       "9702        1.0            15.331551  \n",
       "9703       -1.0            14.884467  \n",
       "\n",
       "[9704 rows x 11 columns]"
      ]
     },
     "execution_count": 4,
     "metadata": {},
     "output_type": "execute_result"
    }
   ],
   "source": [
    "# Download the dataset \n",
    "# You can use wget to download the file\n",
    "# !wget https://raw.githubusercontent.com/bigdatadatafan/datasets-clase/main/car_fuel_efficiency.csv\n",
    "\n",
    "# Load the dataset\n",
    "df = pd.read_csv('data/car_fuel_efficiency.csv')\n",
    "df\n",
    "# After loading the data, let's take a look at the first few rows\n",
    "# df.head()"
   ]
  },
  {
   "cell_type": "markdown",
   "id": "6ba78d39",
   "metadata": {},
   "source": [
    "## Data Exploration\n",
    "Let's explore the dataset to understand its structure."
   ]
  },
  {
   "cell_type": "code",
   "execution_count": 5,
   "id": "23109e3a",
   "metadata": {},
   "outputs": [
    {
     "name": "stdout",
     "output_type": "stream",
     "text": [
      "<class 'pandas.core.frame.DataFrame'>\n",
      "RangeIndex: 9704 entries, 0 to 9703\n",
      "Data columns (total 11 columns):\n",
      " #   Column               Non-Null Count  Dtype  \n",
      "---  ------               --------------  -----  \n",
      " 0   engine_displacement  9704 non-null   int64  \n",
      " 1   num_cylinders        9222 non-null   float64\n",
      " 2   horsepower           8996 non-null   float64\n",
      " 3   vehicle_weight       9704 non-null   float64\n",
      " 4   acceleration         8774 non-null   float64\n",
      " 5   model_year           9704 non-null   int64  \n",
      " 6   origin               9704 non-null   object \n",
      " 7   fuel_type            9704 non-null   object \n",
      " 8   drivetrain           9704 non-null   object \n",
      " 9   num_doors            9202 non-null   float64\n",
      " 10  fuel_efficiency_mpg  9704 non-null   float64\n",
      "dtypes: float64(6), int64(2), object(3)\n",
      "memory usage: 834.1+ KB\n"
     ]
    }
   ],
   "source": [
    "# Display basic information about the dataset\n",
    "df.info()\n",
    "\n",
    "# Get summary statistics\n",
    "# df.describe()\n",
    "\n",
    "# Check column names\n",
    "# df.columns"
   ]
  },
  {
   "cell_type": "markdown",
   "id": "d3e569df",
   "metadata": {},
   "source": [
    "## Q2: Records Count\n",
    "Count the total number of records in the dataset."
   ]
  },
  {
   "cell_type": "code",
   "execution_count": 60,
   "id": "7fc4bd9b",
   "metadata": {},
   "outputs": [
    {
     "data": {
      "text/plain": [
       "9704"
      ]
     },
     "execution_count": 60,
     "metadata": {},
     "output_type": "execute_result"
    }
   ],
   "source": [
    "# Count the total number of records\n",
    "# Your code here\n",
    "df.shape[0]"
   ]
  },
  {
   "cell_type": "markdown",
   "id": "850718fa",
   "metadata": {},
   "source": [
    "## Q3: Fuel Types\n",
    "Identify and count the different fuel types in the dataset."
   ]
  },
  {
   "cell_type": "code",
   "execution_count": 7,
   "id": "d6f68572",
   "metadata": {},
   "outputs": [
    {
     "data": {
      "text/plain": [
       "fuel_type\n",
       "Gasoline    4898\n",
       "Diesel      4806\n",
       "Name: count, dtype: int64"
      ]
     },
     "execution_count": 7,
     "metadata": {},
     "output_type": "execute_result"
    }
   ],
   "source": [
    "# Find out how many fuel types are in the dataset\n",
    "# Your code here\n",
    "df['fuel_type'].value_counts()"
   ]
  },
  {
   "cell_type": "markdown",
   "id": "d842ac1f",
   "metadata": {},
   "source": [
    "## Q4: Missing Values\n",
    "Check for missing values in the dataset and count columns with missing values."
   ]
  },
  {
   "cell_type": "code",
   "execution_count": 8,
   "id": "8c96d37f",
   "metadata": {},
   "outputs": [
    {
     "name": "stdout",
     "output_type": "stream",
     "text": [
      "Missing values per column:\n",
      "engine_displacement      0\n",
      "num_cylinders          482\n",
      "horsepower             708\n",
      "vehicle_weight           0\n",
      "acceleration           930\n",
      "model_year               0\n",
      "origin                   0\n",
      "fuel_type                0\n",
      "drivetrain               0\n",
      "num_doors              502\n",
      "fuel_efficiency_mpg      0\n",
      "dtype: int64\n",
      "\n",
      "Columns with missing values: 4\n",
      "These columns are:\n",
      "['num_cylinders', 'horsepower', 'acceleration', 'num_doors']\n"
     ]
    }
   ],
   "source": [
    "# Check for missing values in each column\n",
    "# Method 1: Check total missing values per column\n",
    "missing_values = df.isnull().sum()\n",
    "print(\"Missing values per column:\")\n",
    "print(missing_values)\n",
    "\n",
    "# Method 2: Count columns with at least one missing value\n",
    "columns_with_missing = missing_values[missing_values > 0]\n",
    "print(\"\\nColumns with missing values:\", len(columns_with_missing))\n",
    "print(\"These columns are:\")\n",
    "print(columns_with_missing.index.tolist())"
   ]
  },
  {
   "cell_type": "markdown",
   "id": "e0125c91",
   "metadata": {},
   "source": [
    "## Q5: Max Fuel Efficiency\n",
    "Find the maximum fuel efficiency of cars from Asia."
   ]
  },
  {
   "cell_type": "code",
   "execution_count": 9,
   "id": "87f517b7",
   "metadata": {},
   "outputs": [
    {
     "name": "stdout",
     "output_type": "stream",
     "text": [
      "Maximum fuel efficiency of cars from Asia: 23.759122836520497 mpg\n",
      "\n",
      "Details of the most fuel efficient Asian car:\n",
      "engine_displacement                  330\n",
      "num_cylinders                        3.0\n",
      "horsepower                         136.0\n",
      "vehicle_weight               1223.298226\n",
      "acceleration                         NaN\n",
      "model_year                          2001\n",
      "origin                              Asia\n",
      "fuel_type                       Gasoline\n",
      "drivetrain             Front-wheel drive\n",
      "num_doors                            1.0\n",
      "fuel_efficiency_mpg            23.759123\n",
      "Name: 9387, dtype: object\n"
     ]
    }
   ],
   "source": [
    "# Filter cars from Asia and find the maximum fuel efficiency\n",
    "cars_from_asia = df[df['origin'] == 'Asia']\n",
    "\n",
    "# Find the maximum fuel efficiency\n",
    "max_fuel_efficiency = cars_from_asia['fuel_efficiency_mpg'].max()\n",
    "print(f\"Maximum fuel efficiency of cars from Asia: {max_fuel_efficiency} mpg\")\n",
    "\n",
    "# Get the car with maximum fuel efficiency (for more details)\n",
    "car_with_max_efficiency = cars_from_asia.loc[cars_from_asia['fuel_efficiency_mpg'].idxmax()]\n",
    "print(\"\\nDetails of the most fuel efficient Asian car:\")\n",
    "print(car_with_max_efficiency)"
   ]
  },
  {
   "cell_type": "markdown",
   "id": "37c14a24",
   "metadata": {},
   "source": [
    "## Q6: Median Value of Horsepower\n",
    "Calculate the median and most frequent value of horsepower, fill missing values, and check if the median changes."
   ]
  },
  {
   "cell_type": "code",
   "execution_count": null,
   "id": "fcbedfd3",
   "metadata": {},
   "outputs": [
    {
     "name": "stdout",
     "output_type": "stream",
     "text": [
      "Median value of horsepower: 149.0\n",
      "Most frequent value of horsepower: 152.0\n",
      "Valores nulos antes: 708\n",
      "Valores nulos después: 0\n",
      "New median is: 152.0\n",
      "The median has changed from 149.0 to 152.0\n",
      "Difference: 3.0\n"
     ]
    }
   ],
   "source": [
    "# 1. Calculate the median value of horsepower\n",
    "# Nota: Para calcular la mediana deberías usar median() en lugar de mean()\n",
    "median_of_horsepower = df['horsepower'].median()\n",
    "print(f\"Median value of horsepower: {median_of_horsepower}\")\n",
    "\n",
    "# 2. Find the most frequent value of horsepower\n",
    "most_frequent_horsepower = df['horsepower'].value_counts().idxmax()\n",
    "print(f\"Most frequent value of horsepower: {most_frequent_horsepower}\")\n",
    "\n",
    "# 3. Fill missing values with the most frequent value\n",
    "df_copy = df.copy()\n",
    "df_copy['horsepower'] = df_copy['horsepower'].fillna(most_frequent_horsepower)\n",
    "\n",
    "# 4. Calculate the new median\n",
    "new_median_of_horsepower = df_copy['horsepower'].median()\n",
    "print(f\"New median is: {new_median_of_horsepower}\")\n",
    "\n",
    "# 5. Check if the median has changed\n",
    "if median_of_horsepower != new_median_of_horsepower:\n",
    "    print(f\"The median has changed from {median_of_horsepower} to {new_median_of_horsepower}\")\n",
    "    print(f\"Difference: {new_median_of_horsepower - median_of_horsepower}\")\n",
    "else:\n",
    "    print(\"The median hasn't changed\")"
   ]
  },
  {
   "cell_type": "markdown",
   "id": "2cc35d26",
   "metadata": {},
   "source": [
    "## Q7: Sum of Weights\n",
    "Implement linear regression calculation using matrix operations on selected data from Asian cars."
   ]
  },
  {
   "cell_type": "code",
   "execution_count": 42,
   "id": "527925d8",
   "metadata": {},
   "outputs": [
    {
     "name": "stdout",
     "output_type": "stream",
     "text": [
      "Cars from Assia:  \n",
      "      engine_displacement  num_cylinders  horsepower  vehicle_weight  \\\n",
      "9688                  260            4.0         NaN     3948.404625   \n",
      "9692                  180            3.0       188.0     3680.341381   \n",
      "9693                  280            2.0       148.0     2545.070139   \n",
      "9698                  180            1.0       131.0     3107.427820   \n",
      "9703                  270            3.0       140.0     2908.043477   \n",
      "\n",
      "      acceleration  model_year origin fuel_type         drivetrain  num_doors  \\\n",
      "9688          15.5        2018   Asia    Diesel    All-wheel drive       -1.0   \n",
      "9692          18.0        2016   Asia  Gasoline  Front-wheel drive        1.0   \n",
      "9693          15.6        2012   Asia    Diesel    All-wheel drive        0.0   \n",
      "9698          13.2        2005   Asia  Gasoline  Front-wheel drive       -2.0   \n",
      "9703          14.7        2005   Asia    Diesel    All-wheel drive       -1.0   \n",
      "\n",
      "      fuel_efficiency_mpg  \n",
      "9688            11.054830  \n",
      "9692            11.711653  \n",
      "9693            17.202782  \n",
      "9698            13.933716  \n",
      "9703            14.884467  \n",
      "Showing the specific columns WEIGHT and MODEL \n",
      "      vehicle_weight  model_year\n",
      "8        2714.219310        2016\n",
      "12       2783.868974        2010\n",
      "14       3582.687368        2007\n",
      "20       2231.808142        2011\n",
      "21       2659.431451        2016\n",
      "...              ...         ...\n",
      "9688     3948.404625        2018\n",
      "9692     3680.341381        2016\n",
      "9693     2545.070139        2012\n",
      "9698     3107.427820        2005\n",
      "9703     2908.043477        2005\n",
      "\n",
      "[3247 rows x 2 columns]\n"
     ]
    }
   ],
   "source": [
    "# 1. Select all cars from Asia\n",
    "# Your code here\n",
    "cars_from_asia = df[df['origin'] == 'Asia']\n",
    "print(f\"Cars from Assia:  \\n{cars_from_asia.tail()}\")\n",
    "\n",
    "# 2. Select only columns vehicle_weight and model_year\n",
    "# Your code here\n",
    "specific_columns = cars_from_asia[[\"vehicle_weight\", \"model_year\"]]\n",
    "print(f\"Showing the specific columns WEIGHT and MODEL \\n{specific_columns}\")\n"
   ]
  },
  {
   "cell_type": "code",
   "execution_count": 45,
   "id": "de611b2c",
   "metadata": {},
   "outputs": [
    {
     "name": "stdout",
     "output_type": "stream",
     "text": [
      "<class 'pandas.core.frame.DataFrame'>\n"
     ]
    },
    {
     "data": {
      "text/html": [
       "<div>\n",
       "<style scoped>\n",
       "    .dataframe tbody tr th:only-of-type {\n",
       "        vertical-align: middle;\n",
       "    }\n",
       "\n",
       "    .dataframe tbody tr th {\n",
       "        vertical-align: top;\n",
       "    }\n",
       "\n",
       "    .dataframe thead th {\n",
       "        text-align: right;\n",
       "    }\n",
       "</style>\n",
       "<table border=\"1\" class=\"dataframe\">\n",
       "  <thead>\n",
       "    <tr style=\"text-align: right;\">\n",
       "      <th></th>\n",
       "      <th>vehicle_weight</th>\n",
       "      <th>model_year</th>\n",
       "    </tr>\n",
       "  </thead>\n",
       "  <tbody>\n",
       "    <tr>\n",
       "      <th>8</th>\n",
       "      <td>2714.219310</td>\n",
       "      <td>2016</td>\n",
       "    </tr>\n",
       "    <tr>\n",
       "      <th>12</th>\n",
       "      <td>2783.868974</td>\n",
       "      <td>2010</td>\n",
       "    </tr>\n",
       "    <tr>\n",
       "      <th>14</th>\n",
       "      <td>3582.687368</td>\n",
       "      <td>2007</td>\n",
       "    </tr>\n",
       "    <tr>\n",
       "      <th>20</th>\n",
       "      <td>2231.808142</td>\n",
       "      <td>2011</td>\n",
       "    </tr>\n",
       "    <tr>\n",
       "      <th>21</th>\n",
       "      <td>2659.431451</td>\n",
       "      <td>2016</td>\n",
       "    </tr>\n",
       "    <tr>\n",
       "      <th>34</th>\n",
       "      <td>2844.227534</td>\n",
       "      <td>2014</td>\n",
       "    </tr>\n",
       "    <tr>\n",
       "      <th>38</th>\n",
       "      <td>3761.994038</td>\n",
       "      <td>2019</td>\n",
       "    </tr>\n",
       "  </tbody>\n",
       "</table>\n",
       "</div>"
      ],
      "text/plain": [
       "    vehicle_weight  model_year\n",
       "8      2714.219310        2016\n",
       "12     2783.868974        2010\n",
       "14     3582.687368        2007\n",
       "20     2231.808142        2011\n",
       "21     2659.431451        2016\n",
       "34     2844.227534        2014\n",
       "38     3761.994038        2019"
      ]
     },
     "execution_count": 45,
     "metadata": {},
     "output_type": "execute_result"
    }
   ],
   "source": [
    "# 3. Select the first 7 values\n",
    "# Your code here and \n",
    "firts_seven_values = specific_columns.head(7)\n",
    "print(type(firts_seven_values))\n",
    "firts_seven_values\n",
    "\n"
   ]
  },
  {
   "cell_type": "code",
   "execution_count": 50,
   "id": "abed37e6",
   "metadata": {},
   "outputs": [
    {
     "data": {
      "text/plain": [
       "array([[2714.21930965, 2016.        ],\n",
       "       [2783.86897424, 2010.        ],\n",
       "       [3582.68736772, 2007.        ],\n",
       "       [2231.8081416 , 2011.        ],\n",
       "       [2659.43145076, 2016.        ],\n",
       "       [2844.22753389, 2014.        ],\n",
       "       [3761.99403819, 2019.        ]])"
      ]
     },
     "execution_count": 50,
     "metadata": {},
     "output_type": "execute_result"
    }
   ],
   "source": [
    "# 4. Get the underlying NumPy array X\n",
    "# Convertir el DataFrame a un arreglo NumPy y guardarlo en la variable X\n",
    "X = firts_seven_values.to_numpy()\n",
    "X"
   ]
  },
  {
   "cell_type": "code",
   "execution_count": 51,
   "id": "93b3d850",
   "metadata": {},
   "outputs": [
    {
     "data": {
      "text/plain": [
       "array([[2714.21930965, 2783.86897424, 3582.68736772, 2231.8081416 ,\n",
       "        2659.43145076, 2844.22753389, 3761.99403819],\n",
       "       [2016.        , 2010.        , 2007.        , 2011.        ,\n",
       "        2016.        , 2014.        , 2019.        ]])"
      ]
     },
     "execution_count": 51,
     "metadata": {},
     "output_type": "execute_result"
    }
   ],
   "source": [
    "# 5. Compute matrix-matrix multiplication between the transpose of X and X\n",
    "# Your code here\n",
    "Y = X.T\n",
    "Y"
   ]
  },
  {
   "cell_type": "code",
   "execution_count": null,
   "id": "cb64f66e",
   "metadata": {},
   "outputs": [
    {
     "name": "stdout",
     "output_type": "stream",
     "text": [
      "[[62248334.33150762 41431216.50732678]\n",
      " [41431216.50732678 28373339.        ]]\n",
      "[[ 5.71497081e-07 -8.34509443e-07]\n",
      " [-8.34509443e-07  1.25380877e-06]]\n"
     ]
    }
   ],
   "source": [
    "# 6. Invert XTX\n",
    "# Your code here\n",
    "XTX = X.T @ X\n",
    "print(XTX)\n",
    "XTX_inv = np.linalg.inv(XTX)  # Inversa de la matriz XTX\n",
    "print(\"Matriz inversa:\", XTX_inv)\n",
    "\n"
   ]
  },
  {
   "cell_type": "code",
   "execution_count": 57,
   "id": "71712b66",
   "metadata": {},
   "outputs": [],
   "source": [
    "# 7. Create an array y with values [1100, 1300, 800, 900, 1000, 1100, 1200]\n",
    "# Your code here\n",
    "arr = np.array([1100, 1300, 800, 900, 1000, 1100, 1200])\n",
    "y = arr\n",
    "\n"
   ]
  },
  {
   "cell_type": "code",
   "execution_count": null,
   "id": "9db09b65",
   "metadata": {},
   "outputs": [
    {
     "name": "stdout",
     "output_type": "stream",
     "text": [
      "Pesos de regresión lineal (w):\n",
      "0.5187709081074007\n"
     ]
    }
   ],
   "source": [
    "\n",
    "# Calcular los pesos de regresión lineal usando la fórmula w = (X^T·X)^(-1)·X^T·y\n",
    "w = XTX_inv @ X.T @ y\n",
    "\n",
    "# Mostrar los pesos calculados\n",
    "w"
   ]
  },
  {
   "cell_type": "code",
   "execution_count": null,
   "id": "727683f1",
   "metadata": {},
   "outputs": [],
   "source": [
    "\n",
    "# 9. Calculate the sum of all elements in w\n",
    "# Your code here\n",
    "w.sum()"
   ]
  },
  {
   "cell_type": "markdown",
   "id": "7e158998",
   "metadata": {},
   "source": [
    "## Conclusion\n",
    "Summarize your findings for each question."
   ]
  },
  {
   "cell_type": "code",
   "execution_count": null,
   "id": "c0e9315d",
   "metadata": {},
   "outputs": [],
   "source": [
    "# Add your conclusions here after completing all questions\n",
    "# Q1: The installed Pandas version is...\n",
    "'2.2.3'\n",
    "# Q2: The dataset contains...\n",
    "\"9704 records\"\n",
    "# Q3: There are...\n",
    "\n",
    "# Q4: ...\n",
    "# Q5: ...\n",
    "# Q6: ...\n",
    "# Q7: ..."
   ]
  }
 ],
 "metadata": {
  "kernelspec": {
   "display_name": "base",
   "language": "python",
   "name": "python3"
  },
  "language_info": {
   "codemirror_mode": {
    "name": "ipython",
    "version": 3
   },
   "file_extension": ".py",
   "mimetype": "text/x-python",
   "name": "python",
   "nbconvert_exporter": "python",
   "pygments_lexer": "ipython3",
   "version": "3.13.5"
  }
 },
 "nbformat": 4,
 "nbformat_minor": 5
}
